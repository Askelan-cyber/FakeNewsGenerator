{
 "cells": [
  {
   "cell_type": "code",
   "execution_count": 1,
   "metadata": {},
   "outputs": [],
   "source": [
    "from keras.preprocessing.sequence import pad_sequences\n",
    "from keras.layers import Embedding, LSTM, Dense, Dropout\n",
    "from keras.preprocessing.text import Tokenizer\n",
    "from keras.callbacks import EarlyStopping\n",
    "from keras.models import Sequential\n",
    "import keras.utils as ku \n",
    "\n",
    "\n",
    "import tensorflow as tf\n",
    "from numpy.random import seed\n",
    "tf.random.set_seed(2)\n",
    "seed(1)\n",
    "\n",
    "import os \n",
    "\n",
    "import warnings\n",
    "warnings.filterwarnings(\"ignore\")\n",
    "warnings.simplefilter(action='ignore', category=FutureWarning)"
   ]
  },
  {
   "cell_type": "code",
   "execution_count": 8,
   "metadata": {},
   "outputs": [],
   "source": [
    "path = '../Resources/titles.csv'"
   ]
  },
  {
   "cell_type": "code",
   "execution_count": 9,
   "metadata": {},
   "outputs": [],
   "source": [
    "def load_data(save_location):\n",
    "    \"\"\"\n",
    "    Load data from Textfile\n",
    "    \"\"\"\n",
    "    file = open(save_location,\"r\")\n",
    "    data = file.read()\n",
    "    return data\n",
    "\n",
    "\n",
    "def clean_text(data):\n",
    "    \"\"\"\n",
    "    Removes non essential characters in corpus of text\n",
    "    \"\"\"\n",
    "    data = \"\".join(v for v in data if v not in string.punctuation).lower()\n",
    "    data = data.encode(\"utf8\").decode(\"ascii\",'ignore')\n",
    "    return data"
   ]
  },
  {
   "cell_type": "code",
   "execution_count": 10,
   "metadata": {},
   "outputs": [],
   "source": [
    "data = load_data(path)"
   ]
  },
  {
   "cell_type": "code",
   "execution_count": 12,
   "metadata": {},
   "outputs": [],
   "source": [
    "import string\n",
    "cleaned = clean_text(data)"
   ]
  },
  {
   "cell_type": "code",
   "execution_count": 13,
   "metadata": {},
   "outputs": [
    {
     "name": "stdout",
     "output_type": "stream",
     "text": [
      "['articletitle', 'blatant ripoff the main character in ghost of tsushima is clearly modeled on the samurai from japanese history', 'deal alert an advance copy of cyberpunk 2077 is sitting on the tracks and the train is still a good 50 yards away', 'get excited gamers activision shot down a french plane over icelandic waters to start a new war to set call of duty games in', 'come on someone just spraypainted gamers rule on the taj mahal and while we generally agree its pretty messed up to deface a cultural landmark', 'brutal playstation has cancelled the entire ps5 game lineup after nicoboy95 commented no one cares on their livestream', 'banjokazooie fans will love this this man threw his bird on the ground', 'major hype gamers have been divorcing their spouses because they arent as beautiful as the graphics on unreal engine 5', 'letdown naughty dog says they worked so hard on the last of us iis amazing cutscenes they only had time to create a basic word puzzler for gameplay', 'major relief blizzard has announced that overwatch players will be able to carry over their unlocked skins and emotes into the afterlife']\n"
     ]
    }
   ],
   "source": [
    "corpus = cleaned.split(\"\\n\")\n",
    "print(corpus[:10])"
   ]
  },
  {
   "cell_type": "code",
   "execution_count": 14,
   "metadata": {},
   "outputs": [
    {
     "name": "stdout",
     "output_type": "stream",
     "text": [
      "10370\n"
     ]
    },
    {
     "data": {
      "text/plain": [
       "[[4356, 4357],\n",
       " [4356, 4357, 5],\n",
       " [4356, 4357, 5, 4358],\n",
       " [4356, 4357, 5, 4358, 726],\n",
       " [4356, 4357, 5, 4358, 726, 3],\n",
       " [4356, 4357, 5, 4358, 726, 3, 1435],\n",
       " [4356, 4357, 5, 4358, 726, 3, 1435, 2],\n",
       " [4356, 4357, 5, 4358, 726, 3, 1435, 2, 4359],\n",
       " [4356, 4357, 5, 4358, 726, 3, 1435, 2, 4359, 30],\n",
       " [4356, 4357, 5, 4358, 726, 3, 1435, 2, 4359, 30, 2698]]"
      ]
     },
     "execution_count": 14,
     "metadata": {},
     "output_type": "execute_result"
    }
   ],
   "source": [
    "tokenizer = Tokenizer()\n",
    "\n",
    "def get_sequence_of_tokens(corpus):\n",
    "    ## tokenization\n",
    "    tokenizer.fit_on_texts(corpus)\n",
    "    total_words = len(tokenizer.word_index) + 1\n",
    "    \n",
    "    ## convert data to sequence of tokens \n",
    "    input_sequences = []\n",
    "    for line in corpus:\n",
    "        token_list = tokenizer.texts_to_sequences([line])[0]\n",
    "        for i in range(1, len(token_list)):\n",
    "            n_gram_sequence = token_list[:i+1]\n",
    "            input_sequences.append(n_gram_sequence)\n",
    "    return input_sequences, total_words\n",
    "\n",
    "inp_sequences, total_words = get_sequence_of_tokens(corpus)\n",
    "print(total_words)\n",
    "inp_sequences[:10]"
   ]
  },
  {
   "cell_type": "code",
   "execution_count": 16,
   "metadata": {},
   "outputs": [
    {
     "name": "stdout",
     "output_type": "stream",
     "text": [
      "37\n"
     ]
    }
   ],
   "source": [
    "import numpy as np\n",
    "\n",
    "def generate_padded_sequences(input_sequences):\n",
    "    max_sequence_len = max([len(x) for x in input_sequences])\n",
    "    input_sequences = np.array(pad_sequences(input_sequences, maxlen=max_sequence_len, padding='pre'))\n",
    "    \n",
    "    predictors, label = input_sequences[:,:-1],input_sequences[:,-1]\n",
    "    label = ku.to_categorical(label, num_classes=total_words)\n",
    "    return predictors, label, max_sequence_len\n",
    "\n",
    "predictors, label, max_sequence_len = generate_padded_sequences(inp_sequences)\n",
    "print(max_sequence_len)"
   ]
  },
  {
   "cell_type": "code",
   "execution_count": 17,
   "metadata": {},
   "outputs": [
    {
     "name": "stdout",
     "output_type": "stream",
     "text": [
      "Model: \"sequential\"\n",
      "_________________________________________________________________\n",
      "Layer (type)                 Output Shape              Param #   \n",
      "=================================================================\n",
      "embedding (Embedding)        (None, 36, 10)            103700    \n",
      "_________________________________________________________________\n",
      "lstm (LSTM)                  (None, 100)               44400     \n",
      "_________________________________________________________________\n",
      "dropout (Dropout)            (None, 100)               0         \n",
      "_________________________________________________________________\n",
      "dense (Dense)                (None, 10370)             1047370   \n",
      "=================================================================\n",
      "Total params: 1,195,470\n",
      "Trainable params: 1,195,470\n",
      "Non-trainable params: 0\n",
      "_________________________________________________________________\n"
     ]
    }
   ],
   "source": [
    "def create_model(max_sequence_len, total_words):\n",
    "    input_len = max_sequence_len - 1\n",
    "    model = Sequential()\n",
    "    \n",
    "    # Add Input Embedding Layer\n",
    "    model.add(Embedding(total_words, 10, input_length=input_len))\n",
    "    \n",
    "    # Add Hidden Layer 1 - LSTM Layer\n",
    "    model.add(LSTM(100))\n",
    "    model.add(Dropout(0.1))\n",
    "    \n",
    "    # Add Output Layer\n",
    "    model.add(Dense(total_words, activation='softmax'))\n",
    "\n",
    "    model.compile(loss='categorical_crossentropy', optimizer='adam')\n",
    "    \n",
    "    return model\n",
    "\n",
    "lstm_model = create_model(max_sequence_len, total_words)\n",
    "lstm_model.summary()"
   ]
  },
  {
   "cell_type": "code",
   "execution_count": 18,
   "metadata": {},
   "outputs": [
    {
     "name": "stdout",
     "output_type": "stream",
     "text": [
      "Epoch 1/100\n",
      "Epoch 2/100\n",
      "Epoch 3/100\n",
      "Epoch 4/100\n",
      "Epoch 5/100\n",
      "Epoch 6/100\n",
      "Epoch 7/100\n",
      "Epoch 8/100\n",
      "Epoch 9/100\n",
      "Epoch 10/100\n",
      "Epoch 11/100\n",
      "Epoch 12/100\n",
      "Epoch 13/100\n",
      "Epoch 14/100\n",
      "Epoch 15/100\n",
      "Epoch 16/100\n",
      "Epoch 17/100\n",
      "Epoch 18/100\n",
      "Epoch 19/100\n",
      "Epoch 20/100\n",
      "Epoch 21/100\n",
      "Epoch 22/100\n",
      "Epoch 23/100\n",
      "Epoch 24/100\n",
      "Epoch 25/100\n",
      "Epoch 26/100\n",
      "Epoch 27/100\n",
      "Epoch 28/100\n",
      "Epoch 29/100\n",
      "Epoch 30/100\n",
      "Epoch 31/100\n",
      "Epoch 32/100\n",
      "Epoch 33/100\n",
      "Epoch 34/100\n",
      "Epoch 35/100\n",
      "Epoch 36/100\n",
      "Epoch 37/100\n",
      "Epoch 38/100\n",
      "Epoch 39/100\n",
      "Epoch 40/100\n",
      "Epoch 41/100\n",
      "Epoch 42/100\n",
      "Epoch 43/100\n",
      "Epoch 44/100\n",
      "Epoch 45/100\n",
      "Epoch 46/100\n",
      "Epoch 47/100\n",
      "Epoch 48/100\n",
      "Epoch 49/100\n",
      "Epoch 50/100\n",
      "Epoch 51/100\n",
      "Epoch 52/100\n",
      "Epoch 53/100\n",
      "Epoch 54/100\n",
      "Epoch 55/100\n",
      "Epoch 56/100\n",
      "Epoch 57/100\n",
      "Epoch 58/100\n",
      "Epoch 59/100\n",
      "Epoch 60/100\n",
      "Epoch 61/100\n",
      "Epoch 62/100\n",
      "Epoch 63/100\n",
      "Epoch 64/100\n",
      "Epoch 65/100\n",
      "Epoch 66/100\n",
      "Epoch 67/100\n",
      "Epoch 68/100\n",
      "Epoch 69/100\n",
      "Epoch 70/100\n",
      "Epoch 71/100\n",
      "Epoch 72/100\n",
      "Epoch 73/100\n",
      "Epoch 74/100\n",
      "Epoch 75/100\n",
      "Epoch 76/100\n",
      "Epoch 77/100\n",
      "Epoch 78/100\n",
      "Epoch 79/100\n",
      "Epoch 80/100\n",
      "Epoch 81/100\n",
      "Epoch 82/100\n",
      "Epoch 83/100\n",
      "Epoch 84/100\n",
      "Epoch 85/100\n",
      "Epoch 86/100\n",
      "Epoch 87/100\n",
      "Epoch 88/100\n",
      "Epoch 89/100\n",
      "Epoch 90/100\n",
      "Epoch 91/100\n",
      "Epoch 92/100\n",
      "Epoch 93/100\n",
      "Epoch 94/100\n",
      "Epoch 95/100\n",
      "Epoch 96/100\n",
      "Epoch 97/100\n",
      "Epoch 98/100\n",
      "Epoch 99/100\n",
      "Epoch 100/100\n"
     ]
    },
    {
     "data": {
      "text/plain": [
       "<tensorflow.python.keras.callbacks.History at 0x24f33d24e08>"
      ]
     },
     "execution_count": 18,
     "metadata": {},
     "output_type": "execute_result"
    }
   ],
   "source": [
    "lstm_model.fit(predictors, label, epochs=100, verbose=5)"
   ]
  },
  {
   "cell_type": "code",
   "execution_count": 22,
   "metadata": {},
   "outputs": [],
   "source": [
    "def generate_text(seed_text, next_words, model, max_sequence_len):\n",
    "    for _ in range(next_words):\n",
    "        token_list = tokenizer.texts_to_sequences([seed_text])[0]\n",
    "        token_list = pad_sequences([token_list], maxlen=max_sequence_len-1, padding='pre')\n",
    "        predicted = np.argmax(model.predict(token_list, verbose=0), axis=-1)\n",
    "        \n",
    "        output_word = \"\"\n",
    "        for word,index in tokenizer.word_index.items():\n",
    "            if index == predicted:\n",
    "                output_word = word\n",
    "                break\n",
    "        seed_text += \" \"+output_word\n",
    "    return seed_text.title()"
   ]
  },
  {
   "cell_type": "code",
   "execution_count": 26,
   "metadata": {},
   "outputs": [
    {
     "name": "stdout",
     "output_type": "stream",
     "text": [
      " Of E3 Presentation Reveals They Worked Really Hard To Do Anything To Make It On The United Bed Done In Abandoned Anthem Death To All\n"
     ]
    }
   ],
   "source": [
    "# Print generated The Onion article title\n",
    "print (generate_text(\"\", 25, lstm_model, max_sequence_len))"
   ]
  },
  {
   "cell_type": "code",
   "execution_count": 29,
   "metadata": {},
   "outputs": [
    {
     "name": "stdout",
     "output_type": "stream",
     "text": [
      "Us Children Now Traumatized One Generous Severance On To Go Extinct From Rnc Empty 12\n",
      "Pizza Of Ohio Civilization Out To Shut In Time In Time All Friends People To Make\n",
      "Ground Breaking New Line Of Spacetime Wormholes To Prevent Intercourse From Once Happening Or Find Is Once\n",
      "New Study Finds 85 Of Americans Dont Know All The Dance Moves To National Anthem\n",
      "Understanding At Bar Is Entire Us Students In Nowhere To Turn Out Of Jury Duty Abandoned\n",
      "Long Short Term Memory Hampered By 85000 Gallons Of Combustible Fuel Years By Tragedy Not Called From A Crab Cancer\n",
      "Lstm Of E3 Presentation Reveals They Worked Really Hard To Do Anything To Make It On The\n",
      "A True Miracle You Into All Of Police Reached School In Death Has Hard To Do\n",
      "Anomaly Of E3 Presentation Reveals They Worked Really Hard To Do Anything To Make It On\n",
      "Data Made Have Lied In Best Years By Death Of Lawn A Big Woman That And Then April\n",
      "Designing Of E3 Presentation Reveals They Worked Really Hard To Do Anything To Make It On The United\n",
      "Reinforcement Of E3 Presentation Reveals They Worked Really Hard To Do Anything To Make It On The United\n"
     ]
    }
   ],
   "source": [
    "print (generate_text(\"US\", 14, lstm_model, max_sequence_len))\n",
    "print (generate_text(\"Pizza\", 15, lstm_model, max_sequence_len))\n",
    "print (generate_text(\"ground breaking\", 15, lstm_model, max_sequence_len))\n",
    "print (generate_text(\"new\", 14, lstm_model, max_sequence_len))\n",
    "print (generate_text(\"understanding\", 15, lstm_model, max_sequence_len))\n",
    "print (generate_text(\"long short term memory\", 16, lstm_model, max_sequence_len))\n",
    "print (generate_text(\"LSTM\", 16, lstm_model, max_sequence_len))\n",
    "print (generate_text(\"a\", 15, lstm_model, max_sequence_len))\n",
    "print (generate_text(\"anomaly\", 15, lstm_model, max_sequence_len))\n",
    "print (generate_text(\"data\", 17, lstm_model, max_sequence_len))\n",
    "print (generate_text(\" \", 17, lstm_model, max_sequence_len))\n",
    "print (generate_text(\"President Trump\", 17, lstm_model, max_sequence_len))"
   ]
  },
  {
   "cell_type": "code",
   "execution_count": 40,
   "metadata": {},
   "outputs": [
    {
     "name": "stdout",
     "output_type": "stream",
     "text": [
      "President Trump Has Enacted The Theseus Protocol What Does That Mean For America For Death And Your House\n"
     ]
    }
   ],
   "source": [
    "print (generate_text(\"President Trump\", 16, lstm_model, max_sequence_len))"
   ]
  },
  {
   "cell_type": "code",
   "execution_count": 41,
   "metadata": {},
   "outputs": [
    {
     "name": "stdout",
     "output_type": "stream",
     "text": [
      "Chuck Norris E Cheese Keyboardist Quits Band To Form Mr Munch Experience News From Least At Their Visitors\n"
     ]
    }
   ],
   "source": [
    "print (generate_text(\"Chuck Norris\", 16, lstm_model, max_sequence_len))"
   ]
  },
  {
   "cell_type": "code",
   "execution_count": 42,
   "metadata": {},
   "outputs": [
    {
     "name": "stdout",
     "output_type": "stream",
     "text": [
      "Tiger Woods Friend To Be Hundred Grownups When For Man Back On Their Prize And United Him Of\n"
     ]
    }
   ],
   "source": [
    "print (generate_text(\"Tiger Woods\", 16, lstm_model, max_sequence_len))"
   ]
  },
  {
   "cell_type": "code",
   "execution_count": 44,
   "metadata": {},
   "outputs": [
    {
     "name": "stdout",
     "output_type": "stream",
     "text": [
      "President Trump Has Enacted The Theseus Protocol What Does That Mean\n"
     ]
    }
   ],
   "source": [
    "print (generate_text(\"PRESIDENT TRUMP\", 9, lstm_model, max_sequence_len))"
   ]
  },
  {
   "cell_type": "code",
   "execution_count": 55,
   "metadata": {},
   "outputs": [
    {
     "name": "stdout",
     "output_type": "stream",
     "text": [
      "One Announces Plans To Close Up Struggling Nation Not Just Like Something\n",
      "Two Publicists Stylist Personal Assistant Injured As Nicole Kidman Turns On\n",
      "Three Fingered On Class Trip To Washington Dc Adult Can Moody Little At Him\n"
     ]
    }
   ],
   "source": [
    "# For loop to select first words for generated titles\n",
    "first_words = ['one', 'two', 'three']\n",
    "\n",
    "for word in first_words:\n",
    "    length = numpy.random.random_integers(4, 14, size = 1)[0]\n",
    "    print(generate_text(word, length, lstm_model, max_sequence_len))"
   ]
  },
  {
   "cell_type": "code",
   "execution_count": 57,
   "metadata": {},
   "outputs": [
    {
     "name": "stdout",
     "output_type": "stream",
     "text": [
      "White House Hires New Ordeal Kingdom Really All It Revealed It\n",
      "Jonthan Of E3 Presentation Reveals They Worked Really Hard To Do Anything\n"
     ]
    }
   ],
   "source": [
    "print (generate_text(\"White House\", 9, lstm_model, max_sequence_len))\n",
    "print (generate_text(\"Jonthan\", 11, lstm_model, max_sequence_len))"
   ]
  },
  {
   "cell_type": "code",
   "execution_count": null,
   "metadata": {},
   "outputs": [],
   "source": []
  }
 ],
 "metadata": {
  "kernelspec": {
   "display_name": "Python 3",
   "language": "python",
   "name": "python3"
  },
  "language_info": {
   "codemirror_mode": {
    "name": "ipython",
    "version": 3
   },
   "file_extension": ".py",
   "mimetype": "text/x-python",
   "name": "python",
   "nbconvert_exporter": "python",
   "pygments_lexer": "ipython3",
   "version": "3.7.7"
  }
 },
 "nbformat": 4,
 "nbformat_minor": 4
}
