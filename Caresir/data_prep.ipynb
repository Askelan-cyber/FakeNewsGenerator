{
 "cells": [
  {
   "cell_type": "code",
   "execution_count": 1,
   "metadata": {},
   "outputs": [],
   "source": [
    "import tensorflow as tf\n",
    "import numpy as np\n",
    "import pandas as pd\n",
    "from sklearn.model_selection import train_test_split\n",
    "from sklearn.metrics import precision_score, recall_score, f1_score\n",
    "import matplotlib.pyplot as plt\n",
    "plt.style.use('ggplot')"
   ]
  },
  {
   "cell_type": "code",
   "execution_count": 2,
   "metadata": {},
   "outputs": [],
   "source": [
    "df = pd.read_csv('../Resources/theonion_articles_raw.csv')\n",
    "df.dropna(inplace=True)"
   ]
  },
  {
   "cell_type": "code",
   "execution_count": 3,
   "metadata": {},
   "outputs": [
    {
     "data": {
      "text/html": [
       "<div>\n",
       "<style scoped>\n",
       "    .dataframe tbody tr th:only-of-type {\n",
       "        vertical-align: middle;\n",
       "    }\n",
       "\n",
       "    .dataframe tbody tr th {\n",
       "        vertical-align: top;\n",
       "    }\n",
       "\n",
       "    .dataframe thead th {\n",
       "        text-align: right;\n",
       "    }\n",
       "</style>\n",
       "<table border=\"1\" class=\"dataframe\">\n",
       "  <thead>\n",
       "    <tr style=\"text-align: right;\">\n",
       "      <th></th>\n",
       "      <th>article_title</th>\n",
       "      <th>article_content</th>\n",
       "    </tr>\n",
       "  </thead>\n",
       "  <tbody>\n",
       "    <tr>\n",
       "      <th>0</th>\n",
       "      <td>Blatant Rip-Off: The Main Character In ‘Ghost ...</td>\n",
       "      <td>Well, gamers, this is a huge letdown. After ye...</td>\n",
       "    </tr>\n",
       "    <tr>\n",
       "      <th>1</th>\n",
       "      <td>Deal Alert: An Advance Copy Of ‘Cyberpunk 2077...</td>\n",
       "      <td>All aboard, gamers! We’ve uncovered a once-in-...</td>\n",
       "    </tr>\n",
       "    <tr>\n",
       "      <th>2</th>\n",
       "      <td>Get Excited, Gamers! Activision Shot Down A Fr...</td>\n",
       "      <td>Here is thrilling news that should have every ...</td>\n",
       "    </tr>\n",
       "    <tr>\n",
       "      <th>3</th>\n",
       "      <td>Come On: Someone Just Spray-Painted ‘Gamers Ru...</td>\n",
       "      <td>Gamers, ever since our founding, we have pride...</td>\n",
       "    </tr>\n",
       "    <tr>\n",
       "      <th>4</th>\n",
       "      <td>Brutal: Playstation Has Cancelled The Entire P...</td>\n",
       "      <td>Well, Playstation fans, it looks like we’re al...</td>\n",
       "    </tr>\n",
       "  </tbody>\n",
       "</table>\n",
       "</div>"
      ],
      "text/plain": [
       "                                       article_title  \\\n",
       "0  Blatant Rip-Off: The Main Character In ‘Ghost ...   \n",
       "1  Deal Alert: An Advance Copy Of ‘Cyberpunk 2077...   \n",
       "2  Get Excited, Gamers! Activision Shot Down A Fr...   \n",
       "3  Come On: Someone Just Spray-Painted ‘Gamers Ru...   \n",
       "4  Brutal: Playstation Has Cancelled The Entire P...   \n",
       "\n",
       "                                     article_content  \n",
       "0  Well, gamers, this is a huge letdown. After ye...  \n",
       "1  All aboard, gamers! We’ve uncovered a once-in-...  \n",
       "2  Here is thrilling news that should have every ...  \n",
       "3  Gamers, ever since our founding, we have pride...  \n",
       "4  Well, Playstation fans, it looks like we’re al...  "
      ]
     },
     "execution_count": 3,
     "metadata": {},
     "output_type": "execute_result"
    }
   ],
   "source": [
    "df.head()"
   ]
  },
  {
   "cell_type": "code",
   "execution_count": 4,
   "metadata": {},
   "outputs": [],
   "source": [
    "# Converting all text to integers\n",
    "tokenizer = tf.keras.preprocessing.text.Tokenizer()\n",
    "tokenizer.fit_on_texts(df['article_title'])\n",
    "df['title'] = tokenizer.texts_to_sequences(df['article_title'])\n",
    "\n",
    "tokenizer = tf.keras.preprocessing.text.Tokenizer()\n",
    "tokenizer.fit_on_texts(df['article_content'])\n",
    "df['content'] = tokenizer.texts_to_sequences(df['article_content'])"
   ]
  },
  {
   "cell_type": "code",
   "execution_count": 5,
   "metadata": {},
   "outputs": [
    {
     "data": {
      "text/html": [
       "<div>\n",
       "<style scoped>\n",
       "    .dataframe tbody tr th:only-of-type {\n",
       "        vertical-align: middle;\n",
       "    }\n",
       "\n",
       "    .dataframe tbody tr th {\n",
       "        vertical-align: top;\n",
       "    }\n",
       "\n",
       "    .dataframe thead th {\n",
       "        text-align: right;\n",
       "    }\n",
       "</style>\n",
       "<table border=\"1\" class=\"dataframe\">\n",
       "  <thead>\n",
       "    <tr style=\"text-align: right;\">\n",
       "      <th></th>\n",
       "      <th>article_title</th>\n",
       "      <th>article_content</th>\n",
       "      <th>title</th>\n",
       "      <th>content</th>\n",
       "    </tr>\n",
       "  </thead>\n",
       "  <tbody>\n",
       "    <tr>\n",
       "      <th>0</th>\n",
       "      <td>Blatant Rip-Off: The Main Character In ‘Ghost ...</td>\n",
       "      <td>Well, gamers, this is a huge letdown. After ye...</td>\n",
       "      <td>[4471, 4472, 66, 6, 4473, 659, 3, 4474, 2, 447...</td>\n",
       "      <td>[124, 2052, 23, 11, 4, 941, 15652, 68, 87, 3, ...</td>\n",
       "    </tr>\n",
       "    <tr>\n",
       "      <th>1</th>\n",
       "      <td>Deal Alert: An Advance Copy Of ‘Cyberpunk 2077...</td>\n",
       "      <td>All aboard, gamers! We’ve uncovered a once-in-...</td>\n",
       "      <td>[333, 525, 146, 4478, 1243, 2, 1513, 1514, 32,...</td>\n",
       "      <td>[27, 4971, 2052, 1788, 5973, 4, 165, 6, 4, 239...</td>\n",
       "    </tr>\n",
       "    <tr>\n",
       "      <th>2</th>\n",
       "      <td>Get Excited, Gamers! Activision Shot Down A Fr...</td>\n",
       "      <td>Here is thrilling news that should have every ...</td>\n",
       "      <td>[83, 282, 476, 4480, 661, 47, 10, 4481, 1515, ...</td>\n",
       "      <td>[169, 11, 5756, 326, 7, 162, 22, 108, 1604, 3,...</td>\n",
       "    </tr>\n",
       "    <tr>\n",
       "      <th>3</th>\n",
       "      <td>Come On: Someone Just Spray-Painted ‘Gamers Ru...</td>\n",
       "      <td>Gamers, ever since our founding, we have pride...</td>\n",
       "      <td>[769, 5, 662, 30, 2774, 4484, 4485, 4486, 5, 6...</td>\n",
       "      <td>[2052, 151, 153, 61, 4766, 30, 22, 22558, 2273...</td>\n",
       "    </tr>\n",
       "    <tr>\n",
       "      <th>4</th>\n",
       "      <td>Brutal: Playstation Has Cancelled The Entire P...</td>\n",
       "      <td>Well, Playstation fans, it looks like we’re al...</td>\n",
       "      <td>[2024, 663, 25, 2776, 6, 121, 1516, 160, 2777,...</td>\n",
       "      <td>[124, 3969, 999, 16, 809, 49, 824, 27, 2369, 4...</td>\n",
       "    </tr>\n",
       "  </tbody>\n",
       "</table>\n",
       "</div>"
      ],
      "text/plain": [
       "                                       article_title  \\\n",
       "0  Blatant Rip-Off: The Main Character In ‘Ghost ...   \n",
       "1  Deal Alert: An Advance Copy Of ‘Cyberpunk 2077...   \n",
       "2  Get Excited, Gamers! Activision Shot Down A Fr...   \n",
       "3  Come On: Someone Just Spray-Painted ‘Gamers Ru...   \n",
       "4  Brutal: Playstation Has Cancelled The Entire P...   \n",
       "\n",
       "                                     article_content  \\\n",
       "0  Well, gamers, this is a huge letdown. After ye...   \n",
       "1  All aboard, gamers! We’ve uncovered a once-in-...   \n",
       "2  Here is thrilling news that should have every ...   \n",
       "3  Gamers, ever since our founding, we have pride...   \n",
       "4  Well, Playstation fans, it looks like we’re al...   \n",
       "\n",
       "                                               title  \\\n",
       "0  [4471, 4472, 66, 6, 4473, 659, 3, 4474, 2, 447...   \n",
       "1  [333, 525, 146, 4478, 1243, 2, 1513, 1514, 32,...   \n",
       "2  [83, 282, 476, 4480, 661, 47, 10, 4481, 1515, ...   \n",
       "3  [769, 5, 662, 30, 2774, 4484, 4485, 4486, 5, 6...   \n",
       "4  [2024, 663, 25, 2776, 6, 121, 1516, 160, 2777,...   \n",
       "\n",
       "                                             content  \n",
       "0  [124, 2052, 23, 11, 4, 941, 15652, 68, 87, 3, ...  \n",
       "1  [27, 4971, 2052, 1788, 5973, 4, 165, 6, 4, 239...  \n",
       "2  [169, 11, 5756, 326, 7, 162, 22, 108, 1604, 3,...  \n",
       "3  [2052, 151, 153, 61, 4766, 30, 22, 22558, 2273...  \n",
       "4  [124, 3969, 999, 16, 809, 49, 824, 27, 2369, 4...  "
      ]
     },
     "execution_count": 5,
     "metadata": {},
     "output_type": "execute_result"
    }
   ],
   "source": [
    "df.head()"
   ]
  },
  {
   "cell_type": "code",
   "execution_count": 6,
   "metadata": {},
   "outputs": [
    {
     "name": "stderr",
     "output_type": "stream",
     "text": [
      "C:\\Users\\Mommy\\anaconda3\\envs\\dev\\lib\\site-packages\\seaborn\\distributions.py:2551: FutureWarning: `distplot` is a deprecated function and will be removed in a future version. Please adapt your code to use either `displot` (a figure-level function with similar flexibility) or `histplot` (an axes-level function for histograms).\n",
      "  warnings.warn(msg, FutureWarning)\n"
     ]
    },
    {
     "data": {
      "text/plain": [
       "<matplotlib.axes._subplots.AxesSubplot at 0x1d8c459e608>"
      ]
     },
     "execution_count": 6,
     "metadata": {},
     "output_type": "execute_result"
    },
    {
     "data": {
      "image/png": "[encoded data removed]",
      "text/plain": [
       "<Figure size 432x288 with 1 Axes>"
      ]
     },
     "metadata": {},
     "output_type": "display_data"
    }
   ],
   "source": [
    "import seaborn as sns\n",
    "# Plot the length of each headline title\n",
    "\n",
    "X_lens = [len(x) for x in df['article_title'].values]\n",
    "X_lens = np.array(X_lens)\n",
    "sns.distplot(X_lens)"
   ]
  },
  {
   "cell_type": "code",
   "execution_count": 7,
   "metadata": {},
   "outputs": [
    {
     "data": {
      "text/plain": [
       "58.141689373297005"
      ]
     },
     "execution_count": 7,
     "metadata": {},
     "output_type": "execute_result"
    }
   ],
   "source": [
    "# calculate the mean article length\n",
    "np.mean(X_lens)"
   ]
  },
  {
   "cell_type": "code",
   "execution_count": 8,
   "metadata": {},
   "outputs": [
    {
     "data": {
      "text/plain": [
       "23.068046803758367"
      ]
     },
     "execution_count": 8,
     "metadata": {},
     "output_type": "execute_result"
    }
   ],
   "source": [
    "# calculate the standard deviation of article length\n",
    "np.std(X_lens)"
   ]
  },
  {
   "cell_type": "markdown",
   "metadata": {},
   "source": [
    "Add twice the standard deviation to the mean to calculate the max tittle length, which turns out to be 104 words."
   ]
  },
  {
   "cell_type": "code",
   "execution_count": 10,
   "metadata": {},
   "outputs": [
    {
     "data": {
      "text/plain": [
       "(array([False,  True]), array([4245,  159], dtype=int64))"
      ]
     },
     "execution_count": 10,
     "metadata": {},
     "output_type": "execute_result"
    }
   ],
   "source": [
    "# Determine the number of titles that are greater or less than 104 words\n",
    "MAX_TITLE = 104\n",
    "np.unique((X_lens >= MAX_TITLE), return_counts=True)"
   ]
  },
  {
   "cell_type": "markdown",
   "metadata": {},
   "source": [
    "By performing the following calculation: 4245/(4245+159) = 96% of the titles are less than or equal to 104 words."
   ]
  },
  {
   "cell_type": "code",
   "execution_count": 11,
   "metadata": {},
   "outputs": [
    {
     "name": "stderr",
     "output_type": "stream",
     "text": [
      "C:\\Users\\Mommy\\anaconda3\\envs\\dev\\lib\\site-packages\\seaborn\\distributions.py:2551: FutureWarning: `distplot` is a deprecated function and will be removed in a future version. Please adapt your code to use either `displot` (a figure-level function with similar flexibility) or `histplot` (an axes-level function for histograms).\n",
      "  warnings.warn(msg, FutureWarning)\n"
     ]
    },
    {
     "data": {
      "text/plain": [
       "<matplotlib.axes._subplots.AxesSubplot at 0x1d8c5955e08>"
      ]
     },
     "execution_count": 11,
     "metadata": {},
     "output_type": "execute_result"
    },
    {
     "data": {
      "image/png": "[encoded data removed]",
      "text/plain": [
       "<Figure size 432x288 with 1 Axes>"
      ]
     },
     "metadata": {},
     "output_type": "display_data"
    }
   ],
   "source": [
    "# Plot the length of the contents\n",
    "\n",
    "X_lens = [len(x) for x in df['article_content'].values]\n",
    "X_lens = np.array(X_lens)\n",
    "sns.distplot(X_lens)"
   ]
  },
  {
   "cell_type": "code",
   "execution_count": 12,
   "metadata": {},
   "outputs": [
    {
     "data": {
      "text/plain": [
       "3765.3294732061763"
      ]
     },
     "execution_count": 12,
     "metadata": {},
     "output_type": "execute_result"
    }
   ],
   "source": [
    "# calculate the mean article length\n",
    "np.mean(X_lens)"
   ]
  },
  {
   "cell_type": "code",
   "execution_count": 13,
   "metadata": {},
   "outputs": [
    {
     "data": {
      "text/plain": [
       "1016.8085151711746"
      ]
     },
     "execution_count": 13,
     "metadata": {},
     "output_type": "execute_result"
    }
   ],
   "source": [
    "# calculate the standard deviation of article length\n",
    "np.std(X_lens)"
   ]
  },
  {
   "cell_type": "markdown",
   "metadata": {},
   "source": [
    "Add twice the standard deviation to the mean to calculate the max tittle length, which turns out to be 5797 words."
   ]
  },
  {
   "cell_type": "code",
   "execution_count": 15,
   "metadata": {},
   "outputs": [
    {
     "data": {
      "text/plain": [
       "(array([False,  True]), array([4341,   63], dtype=int64))"
      ]
     },
     "execution_count": 15,
     "metadata": {},
     "output_type": "execute_result"
    }
   ],
   "source": [
    "# Determine the number of titles that are greater or less than 104 words\n",
    "MAX_LENGTH = 5797\n",
    "np.unique((X_lens >= MAX_LENGTH), return_counts=True)"
   ]
  },
  {
   "cell_type": "markdown",
   "metadata": {},
   "source": [
    "By performing the following calculation: 4341/(4341+63) = 98% of the titles are less than or equal to 5797 words."
   ]
  },
  {
   "cell_type": "code",
   "execution_count": 16,
   "metadata": {},
   "outputs": [],
   "source": [
    "# # Apply the maximum title by cutting off the titles that are too long \n",
    "# # Add 0 to the vectors for titles that are too short\n",
    "\n",
    "X_train_title = tf.keras.preprocessing.sequence.pad_sequences(X_train_title,\n",
    "                                              maxlen=MAX_TITLE,\n",
    "                                              padding='post',\n",
    "                                              truncating='post')\n",
    "X_test_title = tf.keras.preprocessing.sequence.pad_sequences(X_test_title,\n",
    "                                              maxlen=MAX_TITLE,\n",
    "                                              padding='post',\n",
    "                                              truncating='post')\n",
    "\n",
    "# Apply the maximum title by cutting off the content articles that are too long \n",
    "# Add 0 to the vectors for content articles that are too short\n",
    "\n",
    "X_train_text = tf.keras.preprocessing.sequence.pad_sequences(X_train_text,\n",
    "                                              maxlen=MAX_LENGTH,\n",
    "                                              padding='post',\n",
    "                                              truncating='post')\n",
    "X_test_text = tf.keras.preprocessing.sequence.pad_sequences(X_test_text,\n",
    "                                              maxlen=MAX_LENGTH,\n",
    "                                              padding='post',\n",
    "                                              truncating='post')"
   ]
  },
  {
   "cell_type": "code",
   "execution_count": 18,
   "metadata": {},
   "outputs": [],
   "source": [
    "from tensorflow.keras.models import Sequential\n",
    "from tensorflow.keras.layers import Dense, LSTM, Dropout\n",
    "from string import punctuation\n",
    "import os"
   ]
  },
  {
   "cell_type": "code",
   "execution_count": null,
   "metadata": {},
   "outputs": [],
   "source": []
  }
 ],
 "metadata": {
  "kernelspec": {
   "display_name": "Python 3",
   "language": "python",
   "name": "python3"
  },
  "language_info": {
   "codemirror_mode": {
    "name": "ipython",
    "version": 3
   },
   "file_extension": ".py",
   "mimetype": "text/x-python",
   "name": "python",
   "nbconvert_exporter": "python",
   "pygments_lexer": "ipython3",
   "version": "3.7.7"
  }
 },
 "nbformat": 4,
 "nbformat_minor": 4
}
