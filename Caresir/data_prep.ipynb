{
 "cells": [
  {
   "cell_type": "code",
   "execution_count": 2,
   "metadata": {},
   "outputs": [],
   "source": [
    "import tensorflow as tf\n",
    "import numpy as np\n",
    "import pandas as pd\n",
    "from sklearn.model_selection import train_test_split\n",
    "from sklearn.metrics import precision_score, recall_score, f1_score\n",
    "import matplotlib.pyplot as plt\n",
    "plt.style.use('ggplot')"
   ]
  },
  {
   "cell_type": "code",
   "execution_count": 3,
   "metadata": {},
   "outputs": [],
   "source": [
    "df = pd.read_csv('../Resources/theonion_articles_raw.csv')\n",
    "df.dropna(inplace=True)"
   ]
  },
  {
   "cell_type": "code",
   "execution_count": 4,
   "metadata": {},
   "outputs": [
    {
     "data": {
      "text/html": [
       "<div>\n",
       "<style scoped>\n",
       "    .dataframe tbody tr th:only-of-type {\n",
       "        vertical-align: middle;\n",
       "    }\n",
       "\n",
       "    .dataframe tbody tr th {\n",
       "        vertical-align: top;\n",
       "    }\n",
       "\n",
       "    .dataframe thead th {\n",
       "        text-align: right;\n",
       "    }\n",
       "</style>\n",
       "<table border=\"1\" class=\"dataframe\">\n",
       "  <thead>\n",
       "    <tr style=\"text-align: right;\">\n",
       "      <th></th>\n",
       "      <th>article_title</th>\n",
       "      <th>article_content</th>\n",
       "    </tr>\n",
       "  </thead>\n",
       "  <tbody>\n",
       "    <tr>\n",
       "      <th>0</th>\n",
       "      <td>Blatant Rip-Off: The Main Character In ‘Ghost ...</td>\n",
       "      <td>Well, gamers, this is a huge letdown. After ye...</td>\n",
       "    </tr>\n",
       "    <tr>\n",
       "      <th>1</th>\n",
       "      <td>Deal Alert: An Advance Copy Of ‘Cyberpunk 2077...</td>\n",
       "      <td>All aboard, gamers! We’ve uncovered a once-in-...</td>\n",
       "    </tr>\n",
       "    <tr>\n",
       "      <th>2</th>\n",
       "      <td>Get Excited, Gamers! Activision Shot Down A Fr...</td>\n",
       "      <td>Here is thrilling news that should have every ...</td>\n",
       "    </tr>\n",
       "    <tr>\n",
       "      <th>3</th>\n",
       "      <td>Come On: Someone Just Spray-Painted ‘Gamers Ru...</td>\n",
       "      <td>Gamers, ever since our founding, we have pride...</td>\n",
       "    </tr>\n",
       "    <tr>\n",
       "      <th>4</th>\n",
       "      <td>Brutal: Playstation Has Cancelled The Entire P...</td>\n",
       "      <td>Well, Playstation fans, it looks like we’re al...</td>\n",
       "    </tr>\n",
       "  </tbody>\n",
       "</table>\n",
       "</div>"
      ],
      "text/plain": [
       "                                       article_title  \\\n",
       "0  Blatant Rip-Off: The Main Character In ‘Ghost ...   \n",
       "1  Deal Alert: An Advance Copy Of ‘Cyberpunk 2077...   \n",
       "2  Get Excited, Gamers! Activision Shot Down A Fr...   \n",
       "3  Come On: Someone Just Spray-Painted ‘Gamers Ru...   \n",
       "4  Brutal: Playstation Has Cancelled The Entire P...   \n",
       "\n",
       "                                     article_content  \n",
       "0  Well, gamers, this is a huge letdown. After ye...  \n",
       "1  All aboard, gamers! We’ve uncovered a once-in-...  \n",
       "2  Here is thrilling news that should have every ...  \n",
       "3  Gamers, ever since our founding, we have pride...  \n",
       "4  Well, Playstation fans, it looks like we’re al...  "
      ]
     },
     "execution_count": 4,
     "metadata": {},
     "output_type": "execute_result"
    }
   ],
   "source": [
    "df.head()"
   ]
  },
  {
   "cell_type": "code",
   "execution_count": 10,
   "metadata": {},
   "outputs": [],
   "source": [
    "# Converting all text to integers\n",
    "tokenizer = tf.keras.preprocessing.text.Tokenizer()\n",
    "tokenizer.fit_on_texts(df['article_title'])\n",
    "df['title'] = tokenizer.texts_to_sequences(df['article_title'])"
   ]
  },
  {
   "cell_type": "code",
   "execution_count": 11,
   "metadata": {},
   "outputs": [
    {
     "data": {
      "text/html": [
       "<div>\n",
       "<style scoped>\n",
       "    .dataframe tbody tr th:only-of-type {\n",
       "        vertical-align: middle;\n",
       "    }\n",
       "\n",
       "    .dataframe tbody tr th {\n",
       "        vertical-align: top;\n",
       "    }\n",
       "\n",
       "    .dataframe thead th {\n",
       "        text-align: right;\n",
       "    }\n",
       "</style>\n",
       "<table border=\"1\" class=\"dataframe\">\n",
       "  <thead>\n",
       "    <tr style=\"text-align: right;\">\n",
       "      <th></th>\n",
       "      <th>article_title</th>\n",
       "      <th>article_content</th>\n",
       "      <th>title</th>\n",
       "    </tr>\n",
       "  </thead>\n",
       "  <tbody>\n",
       "    <tr>\n",
       "      <th>0</th>\n",
       "      <td>Blatant Rip-Off: The Main Character In ‘Ghost ...</td>\n",
       "      <td>Well, gamers, this is a huge letdown. After ye...</td>\n",
       "      <td>[4471, 4472, 66, 6, 4473, 659, 3, 4474, 2, 447...</td>\n",
       "    </tr>\n",
       "    <tr>\n",
       "      <th>1</th>\n",
       "      <td>Deal Alert: An Advance Copy Of ‘Cyberpunk 2077...</td>\n",
       "      <td>All aboard, gamers! We’ve uncovered a once-in-...</td>\n",
       "      <td>[333, 525, 146, 4478, 1243, 2, 1513, 1514, 32,...</td>\n",
       "    </tr>\n",
       "    <tr>\n",
       "      <th>2</th>\n",
       "      <td>Get Excited, Gamers! Activision Shot Down A Fr...</td>\n",
       "      <td>Here is thrilling news that should have every ...</td>\n",
       "      <td>[83, 282, 476, 4480, 661, 47, 10, 4481, 1515, ...</td>\n",
       "    </tr>\n",
       "    <tr>\n",
       "      <th>3</th>\n",
       "      <td>Come On: Someone Just Spray-Painted ‘Gamers Ru...</td>\n",
       "      <td>Gamers, ever since our founding, we have pride...</td>\n",
       "      <td>[769, 5, 662, 30, 2774, 4484, 4485, 4486, 5, 6...</td>\n",
       "    </tr>\n",
       "    <tr>\n",
       "      <th>4</th>\n",
       "      <td>Brutal: Playstation Has Cancelled The Entire P...</td>\n",
       "      <td>Well, Playstation fans, it looks like we’re al...</td>\n",
       "      <td>[2024, 663, 25, 2776, 6, 121, 1516, 160, 2777,...</td>\n",
       "    </tr>\n",
       "  </tbody>\n",
       "</table>\n",
       "</div>"
      ],
      "text/plain": [
       "                                       article_title  \\\n",
       "0  Blatant Rip-Off: The Main Character In ‘Ghost ...   \n",
       "1  Deal Alert: An Advance Copy Of ‘Cyberpunk 2077...   \n",
       "2  Get Excited, Gamers! Activision Shot Down A Fr...   \n",
       "3  Come On: Someone Just Spray-Painted ‘Gamers Ru...   \n",
       "4  Brutal: Playstation Has Cancelled The Entire P...   \n",
       "\n",
       "                                     article_content  \\\n",
       "0  Well, gamers, this is a huge letdown. After ye...   \n",
       "1  All aboard, gamers! We’ve uncovered a once-in-...   \n",
       "2  Here is thrilling news that should have every ...   \n",
       "3  Gamers, ever since our founding, we have pride...   \n",
       "4  Well, Playstation fans, it looks like we’re al...   \n",
       "\n",
       "                                               title  \n",
       "0  [4471, 4472, 66, 6, 4473, 659, 3, 4474, 2, 447...  \n",
       "1  [333, 525, 146, 4478, 1243, 2, 1513, 1514, 32,...  \n",
       "2  [83, 282, 476, 4480, 661, 47, 10, 4481, 1515, ...  \n",
       "3  [769, 5, 662, 30, 2774, 4484, 4485, 4486, 5, 6...  \n",
       "4  [2024, 663, 25, 2776, 6, 121, 1516, 160, 2777,...  "
      ]
     },
     "execution_count": 11,
     "metadata": {},
     "output_type": "execute_result"
    }
   ],
   "source": [
    "df.head()"
   ]
  },
  {
   "cell_type": "code",
   "execution_count": 15,
   "metadata": {},
   "outputs": [
    {
     "name": "stderr",
     "output_type": "stream",
     "text": [
      "C:\\Users\\Mommy\\anaconda3\\envs\\dev\\lib\\site-packages\\seaborn\\distributions.py:2551: FutureWarning: `distplot` is a deprecated function and will be removed in a future version. Please adapt your code to use either `displot` (a figure-level function with similar flexibility) or `histplot` (an axes-level function for histograms).\n",
      "  warnings.warn(msg, FutureWarning)\n"
     ]
    },
    {
     "data": {
      "text/plain": [
       "<matplotlib.axes._subplots.AxesSubplot at 0x173761e3108>"
      ]
     },
     "execution_count": 15,
     "metadata": {},
     "output_type": "execute_result"
    },
    {
     "data": {
      "image/png": "[encoded data removed]",
      "text/plain": [
       "<Figure size 432x288 with 1 Axes>"
      ]
     },
     "metadata": {},
     "output_type": "display_data"
    }
   ],
   "source": [
    "import seaborn as sns\n",
    "# Plot the length of each headline title\n",
    "\n",
    "X_lens = [len(x) for x in df['article_title'].values]\n",
    "X_lens = np.array(X_lens)\n",
    "sns.distplot(X_lens)"
   ]
  },
  {
   "cell_type": "code",
   "execution_count": 17,
   "metadata": {},
   "outputs": [
    {
     "data": {
      "text/plain": [
       "58.141689373297005"
      ]
     },
     "execution_count": 17,
     "metadata": {},
     "output_type": "execute_result"
    }
   ],
   "source": [
    "# calculate the mean article length - mine was 622.0563602325352\n",
    "np.mean(X_lens)"
   ]
  },
  {
   "cell_type": "code",
   "execution_count": 18,
   "metadata": {},
   "outputs": [
    {
     "data": {
      "text/plain": [
       "23.068046803758367"
      ]
     },
     "execution_count": 18,
     "metadata": {},
     "output_type": "execute_result"
    }
   ],
   "source": [
    "# calculate the standard deviation of article length\n",
    "# mine was 1182.0848019657983\n",
    "np.std(X_lens)"
   ]
  },
  {
   "cell_type": "code",
   "execution_count": null,
   "metadata": {},
   "outputs": [],
   "source": []
  }
 ],
 "metadata": {
  "kernelspec": {
   "display_name": "Python [conda env:dev]",
   "language": "python",
   "name": "conda-env-dev-py"
  },
  "language_info": {
   "codemirror_mode": {
    "name": "ipython",
    "version": 3
   },
   "file_extension": ".py",
   "mimetype": "text/x-python",
   "name": "python",
   "nbconvert_exporter": "python",
   "pygments_lexer": "ipython3",
   "version": "3.7.7"
  }
 },
 "nbformat": 4,
 "nbformat_minor": 4
}
